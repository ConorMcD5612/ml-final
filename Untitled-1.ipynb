{
 "cells": [
  {
   "cell_type": "code",
   "execution_count": 1,
   "id": "105d975f",
   "metadata": {},
   "outputs": [
    {
     "ename": "ModuleNotFoundError",
     "evalue": "No module named 'xgboost'",
     "output_type": "error",
     "traceback": [
      "\u001b[1;31m---------------------------------------------------------------------------\u001b[0m",
      "\u001b[1;31mModuleNotFoundError\u001b[0m                       Traceback (most recent call last)",
      "Cell \u001b[1;32mIn[1], line 5\u001b[0m\n\u001b[0;32m      3\u001b[0m \u001b[38;5;28;01mfrom\u001b[39;00m \u001b[38;5;21;01msklearn\u001b[39;00m\u001b[38;5;21;01m.\u001b[39;00m\u001b[38;5;21;01mpreprocessing\u001b[39;00m \u001b[38;5;28;01mimport\u001b[39;00m LabelEncoder\n\u001b[0;32m      4\u001b[0m \u001b[38;5;28;01mfrom\u001b[39;00m \u001b[38;5;21;01msklearn\u001b[39;00m\u001b[38;5;21;01m.\u001b[39;00m\u001b[38;5;21;01mmetrics\u001b[39;00m \u001b[38;5;28;01mimport\u001b[39;00m classification_report, accuracy_score, mean_squared_error, r2_score\n\u001b[1;32m----> 5\u001b[0m \u001b[38;5;28;01mfrom\u001b[39;00m \u001b[38;5;21;01mxgboost\u001b[39;00m \u001b[38;5;28;01mimport\u001b[39;00m XGBClassifier, XGBRegressor\n\u001b[0;32m      7\u001b[0m \u001b[38;5;66;03m# Load data\u001b[39;00m\n\u001b[0;32m      8\u001b[0m df \u001b[38;5;241m=\u001b[39m pd\u001b[38;5;241m.\u001b[39mread_csv(\u001b[38;5;124m\"\u001b[39m\u001b[38;5;124mInsurance_Company_Complaints__Resolutions__Status__and_Recoveries.csv\u001b[39m\u001b[38;5;124m\"\u001b[39m)\n",
      "\u001b[1;31mModuleNotFoundError\u001b[0m: No module named 'xgboost'"
     ]
    }
   ],
   "source": [
    "import pandas as pd\n",
    "from sklearn.model_selection import train_test_split\n",
    "from sklearn.preprocessing import LabelEncoder\n",
    "from sklearn.metrics import classification_report, accuracy_score, mean_squared_error, r2_score\n",
    "from xgboost import XGBClassifier, XGBRegressor\n",
    "\n",
    "# Load data\n",
    "df = pd.read_csv(\"Insurance_Company_Complaints__Resolutions__Status__and_Recoveries.csv\")\n",
    "\n",
    "# Define columns\n",
    "input_cols = [\"Opened\", \"Closed\", \"Coverage\", \"SubCoverage\", \"Reason\", \"SubReason\"]\n",
    "classification_targets = [\"Disposition\", \"Conclusion\"]\n",
    "regression_target = \"Recovery\"\n",
    "\n",
    "# Drop rows with nulls in relevant columns\n",
    "categorical_inputs = [\"Coverage\", \"SubCoverage\", \"Reason\", \"SubReason\"]\n",
    "for col in categorical_inputs:\n",
    "    df[col] = df[col].fillna(\"Unknown\")\n",
    "\n",
    "# Drop rows where any target column is missing\n",
    "target_cols = [\"Disposition\", \"Conclusion\", \"Recovery\"]\n",
    "df = df.dropna(subset=[\"Opened\", \"Closed\"] + target_cols)\n",
    "\n",
    "# Convert date columns to datetime and compute duration\n",
    "df[\"Opened\"] = pd.to_datetime(df[\"Opened\"])\n",
    "df[\"Closed\"] = pd.to_datetime(df[\"Closed\"])\n",
    "df[\"Duration\"] = (df[\"Closed\"] - df[\"Opened\"]).dt.days\n",
    "\n",
    "# Encode categorical features\n",
    "label_encoders = {}\n",
    "for col in [\"Coverage\", \"SubCoverage\", \"Reason\", \"SubReason\"]:\n",
    "    le = LabelEncoder()\n",
    "    df[col] = le.fit_transform(df[col])\n",
    "    label_encoders[col] = le\n",
    "\n",
    "# Features to use\n",
    "features = [\"Duration\", \"Coverage\", \"SubCoverage\", \"Reason\", \"SubReason\"]\n",
    "\n",
    "# Limit dataset for speed\n",
    "df_sample = df.sample(n=1000, random_state=42)\n",
    "\n",
    "# Filter out rare Conclusion classes BEFORE classification\n",
    "value_counts = df_sample[\"Conclusion\"].value_counts()\n",
    "valid_classes = value_counts[value_counts >= 2].index\n",
    "df_sample = df_sample[df_sample[\"Conclusion\"].isin(valid_classes)]\n",
    "\n",
    "# --- Classification: Disposition and Conclusion ---\n",
    "for target in classification_targets:\n",
    "    print(f\"\\n--- XGBoost Classification Report for {target} ---\")\n",
    "    le_target = LabelEncoder()\n",
    "    y = le_target.fit_transform(df_sample[target])\n",
    "    X_train, X_test, y_train, y_test = train_test_split(\n",
    "        df_sample[features], y, test_size=0.2, random_state=42, stratify=y)\n",
    "\n",
    "    model = XGBClassifier(n_estimators=50, eval_metric='mlogloss')\n",
    "    model.fit(X_train, y_train)\n",
    "\n",
    "    y_pred = model.predict(X_test)\n",
    "    print(f\"Accuracy: {accuracy_score(y_test, y_pred):.4f}\")\n",
    "    print(classification_report(y_test, y_pred))\n",
    "\n",
    "# --- Regression: Recovery ---\n",
    "print(\"\\n--- XGBoost Regression Report for Recovery ---\")\n",
    "y = df_sample[regression_target]\n",
    "X_train, X_test, y_train, y_test = train_test_split(df_sample[features], y, test_size=0.2, random_state=42)\n",
    "\n",
    "reg_model = XGBRegressor(n_estimators=50)\n",
    "reg_model.fit(X_train, y_train)\n",
    "\n",
    "y_pred = reg_model.predict(X_test)\n",
    "print(f\"MSE: {mean_squared_error(y_test, y_pred):.2f}\")\n",
    "print(f\"R²: {r2_score(y_test, y_pred):.4f}\")\n"
   ]
  }
 ],
 "metadata": {
  "kernelspec": {
   "display_name": "ml",
   "language": "python",
   "name": "python3"
  },
  "language_info": {
   "codemirror_mode": {
    "name": "ipython",
    "version": 3
   },
   "file_extension": ".py",
   "mimetype": "text/x-python",
   "name": "python",
   "nbconvert_exporter": "python",
   "pygments_lexer": "ipython3",
   "version": "3.9.21"
  }
 },
 "nbformat": 4,
 "nbformat_minor": 5
}
